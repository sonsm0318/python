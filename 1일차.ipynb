{
  "nbformat": 4,
  "nbformat_minor": 0,
  "metadata": {
    "colab": {
      "provenance": [],
      "toc_visible": true
    },
    "kernelspec": {
      "name": "python3",
      "display_name": "Python 3"
    },
    "language_info": {
      "name": "python"
    }
  },
  "cells": [
    {
      "cell_type": "code",
      "execution_count": 1,
      "metadata": {
        "colab": {
          "base_uri": "https://localhost:8080/"
        },
        "id": "Q1lvNj0fCf9r",
        "outputId": "34744e6b-2ab1-4ce2-9093-ae0a3ffae0ab"
      },
      "outputs": [
        {
          "output_type": "stream",
          "name": "stdout",
          "text": [
            "test\n",
            "python class1\n",
            "Visual Studio Python\n"
          ]
        }
      ],
      "source": [
        "print(\"test\")\n",
        "print(\"python class1\")\n",
        "\n",
        "print(\"Visual Studio Python\")"
      ]
    }
  ]
}