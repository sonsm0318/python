{
  "nbformat": 4,
  "nbformat_minor": 0,
  "metadata": {
    "colab": {
      "provenance": []
    },
    "kernelspec": {
      "name": "python3",
      "display_name": "Python 3"
    },
    "language_info": {
      "name": "python"
    }
  },
  "cells": [
    {
      "cell_type": "code",
      "execution_count": 1,
      "metadata": {
        "colab": {
          "base_uri": "https://localhost:8080/"
        },
        "id": "52N2qzaB77D5",
        "outputId": "ee56fca5-0428-4303-c5b1-c3b82e6af9d6"
      },
      "outputs": [
        {
          "output_type": "stream",
          "name": "stdout",
          "text": [
            "[10, 20, 30]\n",
            "a=[10, 20, 30]\n",
            "b=1\n",
            " a = [10, 20, 30] b = 1 c = 2 \n"
          ]
        }
      ],
      "source": [
        "a = [10,20,30]\n",
        "b = 1\n",
        "c = 2\n",
        "print(a)\n",
        "print( \"a={}\".format(a))\n",
        "print( \"b={}\".format(b))\n",
        "print(\" a = {} b = {} c = {} \".format(a,b,c))"
      ]
    }
  ]
}